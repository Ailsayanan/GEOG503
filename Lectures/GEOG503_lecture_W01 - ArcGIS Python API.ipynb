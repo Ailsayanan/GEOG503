{
 "cells": [
  {
   "cell_type": "markdown",
   "metadata": {},
   "source": [
    "# ArcGIS Python API\n",
    "\n",
    "## Install using Conda\n",
    "[Installation instruction](https://developers.arcgis.com/python/guide/install-and-set-up/)\n",
    "\n",
    "conda install -c esri arcgis\n"
   ]
  },
  {
   "cell_type": "code",
   "execution_count": 1,
   "metadata": {
    "collapsed": false,
    "scrolled": true
   },
   "outputs": [],
   "source": [
    "from arcgis.gis import GIS\n",
    "my_gis = GIS()\n",
    "my_gis.map()"
   ]
  },
  {
   "cell_type": "code",
   "execution_count": 1,
   "metadata": {
    "collapsed": false
   },
   "outputs": [
    {
     "name": "stdout",
     "output_type": "stream",
     "text": [
      "Help on package twitter:\n",
      "\n",
      "NAME\n",
      "    twitter - A library that provides a Python interface to the Twitter API\n",
      "\n",
      "PACKAGE CONTENTS\n",
      "    _file_cache\n",
      "    api\n",
      "    error\n",
      "    models\n",
      "    parse_tweet\n",
      "    ratelimit\n",
      "    twitter_utils\n",
      "\n",
      "FUNCTIONS\n",
      "    md5 = openssl_md5(...)\n",
      "        Returns a md5 hash object; optionally initialized with a string\n",
      "\n",
      "DATA\n",
      "    __copyright__ = 'Copyright (c) 2007-2016 The Python-Twitter Developers...\n",
      "    __description__ = 'A Python wrapper around the Twitter API'\n",
      "    __download_url__ = 'https://pypi.python.org/pypi/python-twitter'\n",
      "    __email__ = 'python-twitter@googlegroups.com'\n",
      "    __license__ = 'Apache License 2.0'\n",
      "    __url__ = 'https://github.com/bear/python-twitter'\n",
      "    absolute_import = _Feature((2, 5, 0, 'alpha', 1), (3, 0, 0, 'alpha', 0...\n",
      "\n",
      "VERSION\n",
      "    3.2.1\n",
      "\n",
      "AUTHOR\n",
      "    The Python-Twitter Developers\n",
      "\n",
      "FILE\n",
      "    c:\\anaconda3\\lib\\site-packages\\twitter\\__init__.py\n",
      "\n",
      "\n"
     ]
    }
   ],
   "source": [
    "import twitter\n",
    "\n",
    "help(twitter)"
   ]
  },
  {
   "cell_type": "code",
   "execution_count": null,
   "metadata": {
    "collapsed": true
   },
   "outputs": [],
   "source": []
  }
 ],
 "metadata": {
  "anaconda-cloud": {},
  "kernelspec": {
   "display_name": "Python [conda root]",
   "language": "python",
   "name": "conda-root-py"
  },
  "language_info": {
   "codemirror_mode": {
    "name": "ipython",
    "version": 3
   },
   "file_extension": ".py",
   "mimetype": "text/x-python",
   "name": "python",
   "nbconvert_exporter": "python",
   "pygments_lexer": "ipython3",
   "version": "3.5.2"
  }
 },
 "nbformat": 4,
 "nbformat_minor": 1
}
